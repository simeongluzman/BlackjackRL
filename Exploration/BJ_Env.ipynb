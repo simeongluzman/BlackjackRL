{
 "cells": [
  {
   "cell_type": "code",
   "execution_count": 122,
   "metadata": {},
   "outputs": [],
   "source": [
    "import random\n",
    "class BlackJackEnv:\n",
    "\n",
    "  rCount = 0\n",
    "  roundStarted = False\n",
    "\n",
    "  def __str__(self):\n",
    "    return f\"Deck: {self.deck} \\nDiscard: {self.discard} \\nRunning Count: {self.rCount} \\nPlayer Hand: {self.playerHand} \\nDealer Hand: {self.dealerHand} \\nRound Started: {self.roundStarted}\"\n",
    "\n",
    "  def __init__(self, numDecks):\n",
    "    self.deck = [2,3,4,5,6,7,8,9,10,10,10,10,11] * 4 * numDecks #ingoring suits\n",
    "    self.rCount = 0 #Wont update for now, will just keep discrad pile and create method to update later\n",
    "    self.discard = [] #Also contains cards that are in play (on the table)\n",
    "    self.playerHand = []\n",
    "    self.dealerHand = []\n",
    "    \n",
    "    self.shuffle()\n",
    "\n",
    "  def shuffle(self):\n",
    "    for card in self.discard:\n",
    "      self.deck.append(card)\n",
    "    self.discard = []\n",
    "    #shuffle 5 times\n",
    "    for i in range (5):\n",
    "      random.shuffle(self.deck)\n",
    "\n",
    "  def hand_value(self,hand):\n",
    "    value = sum(hand)\n",
    "    if value > 21 and 11 in hand:\n",
    "      hand.remove(11)\n",
    "      hand.append(1)\n",
    "      value = sum(hand)\n",
    "    return value\n",
    "  \n",
    "\n",
    "  #might need to change this account for aces that are already overdrawn for value 11\n",
    "  def has_ace(self):\n",
    "    return 11 in self.playerHand\n",
    "  \n",
    "  def deal_card(self):\n",
    "    card = self.deck.pop()\n",
    "    if card < 7:\n",
    "      self.rCount += 1\n",
    "    elif card > 9:\n",
    "      self.rCount -= 1\n",
    "    self.discard.append(card)\n",
    "    return card\n",
    "  \n",
    "  def get_state(self):\n",
    "    pl = self.hand_value(self.playerHand)\n",
    "    dl = self.dealerHand[0]\n",
    "    runningCount = self.rCount\n",
    "    reward = self.get_reward()\n",
    "    roundStarted = self.roundStarted\n",
    "    #Returns: player hand-val, dealers first card, hasAce, roundstarted(bbool), reward\n",
    "    return (pl,dl,self.has_ace(), roundStarted,reward,runningCount)\n",
    "  \n",
    "  def get_reward(self):\n",
    "    if self.roundStarted:\n",
    "      return 0\n",
    "    else:\n",
    "\n",
    "      playerValue = self.hand_value(self.playerHand)\n",
    "      dealerValue = self.hand_value(self.dealerHand)\n",
    "      if playerValue > 21:\n",
    "        return -1\n",
    "      if dealerValue > 21:\n",
    "        return 1\n",
    "      if playerValue > dealerValue:\n",
    "        return 1\n",
    "      if playerValue < dealerValue:\n",
    "        return -1\n",
    "      return 0\n",
    "    \n",
    "  def end_round(self):\n",
    "    \n",
    "    if self.get_reward() == 0:\n",
    "      print(\"Tie\")\n",
    "    elif self.get_reward() == 1:\n",
    "      print(\"Player wins\")\n",
    "    else:\n",
    "      print(\"Dealer wins\")\n",
    "    \n",
    "    self.playerHand = []\n",
    "    self.dealerHand = []\n",
    "\n",
    "  def start_round(self):\n",
    "    if len(self.deck) < 10:\n",
    "      self.shuffle()\n",
    "    \n",
    "    if self.roundStarted:\n",
    "      print(\"Round already started\")\n",
    "      return None\n",
    "    self.roundStarted = True\n",
    "    self.playerHand = [self.deal_card(), self.deal_card()]\n",
    "    self.dealerHand = [self.deal_card(), self.deal_card()]\n",
    "    return self.get_state()\n",
    "\n",
    "  def next(self,action):\n",
    "    if not self.roundStarted:\n",
    "      print(\"Round not started\")\n",
    "      return None\n",
    "    \n",
    "    if action == 1:\n",
    "      self.playerHand.append(self.deal_card())\n",
    "      if self.hand_value(self.playerHand) > 21:\n",
    "        self.roundStarted = False\n",
    "        state = self.get_state()\n",
    "        self.end_round()\n",
    "        return state\n",
    "      return self.get_state()\n",
    "    else:\n",
    "      \n",
    "      while self.hand_value(self.dealerHand) < 17:\n",
    "        self.dealerHand.append(self.deal_card())\n",
    "      self.roundStarted = False\n",
    "      state = self.get_state()\n",
    "      self.end_round()\n",
    "      return state\n",
    "    #Add option to double also\n",
    "  \n",
    "     \n",
    "\n",
    "\n",
    "\n",
    "  \n",
    "  \n",
    "  \n",
    "    \n",
    "\n",
    "\n",
    "\n",
    "\n",
    "\n",
    "\n",
    "\n",
    "\n",
    "\n"
   ]
  },
  {
   "cell_type": "code",
   "execution_count": 129,
   "metadata": {},
   "outputs": [
    {
     "name": "stdout",
     "output_type": "stream",
     "text": [
      "Deck: [10, 11, 10, 6, 5, 2, 10, 4, 10, 3, 10, 10, 10, 5, 11, 9, 2, 6, 10, 10, 7, 5, 11, 9, 5, 10, 7, 10, 6, 10, 3, 10, 10, 8, 8, 4, 2, 10, 2, 8, 7, 6, 9, 10, 3, 4, 7, 3, 8, 11, 9, 4] \n",
      "Discard: [] \n",
      "Running Count: 0 \n",
      "Player Hand: [] \n",
      "Dealer Hand: [] \n",
      "Round Started: False\n"
     ]
    }
   ],
   "source": [
    "table = BlackJackEnv(1)\n",
    "print(table)\n"
   ]
  },
  {
   "cell_type": "code",
   "execution_count": 144,
   "metadata": {},
   "outputs": [
    {
     "data": {
      "text/plain": [
       "(16, 7, True, True, 0, 2)"
      ]
     },
     "execution_count": 144,
     "metadata": {},
     "output_type": "execute_result"
    }
   ],
   "source": [
    "\n",
    "table.start_round()\n"
   ]
  },
  {
   "cell_type": "code",
   "execution_count": 148,
   "metadata": {},
   "outputs": [
    {
     "name": "stdout",
     "output_type": "stream",
     "text": [
      "Dealer wins\n"
     ]
    },
    {
     "data": {
      "text/plain": [
       "(22, 7, False, False, -1, 2)"
      ]
     },
     "execution_count": 148,
     "metadata": {},
     "output_type": "execute_result"
    }
   ],
   "source": [
    "table.next(1)"
   ]
  },
  {
   "cell_type": "code",
   "execution_count": 149,
   "metadata": {},
   "outputs": [
    {
     "name": "stdout",
     "output_type": "stream",
     "text": [
      "Deck: [10, 11, 10, 6, 5, 2, 10, 4, 10, 3, 10, 10, 10, 5, 11, 9, 2] \n",
      "Discard: [4, 9, 11, 8, 3, 7, 4, 3, 10, 9, 6, 7, 8, 2, 10, 2, 4, 8, 8, 10, 10, 3, 10, 6, 10, 7, 10, 5, 9, 11, 5, 7, 10, 10, 6] \n",
      "Running Count: 2 \n",
      "Player Hand: [] \n",
      "Dealer Hand: [] \n",
      "Round Started: False\n"
     ]
    }
   ],
   "source": [
    "print(table)"
   ]
  }
 ],
 "metadata": {
  "kernelspec": {
   "display_name": "venv",
   "language": "python",
   "name": "python3"
  },
  "language_info": {
   "codemirror_mode": {
    "name": "ipython",
    "version": 3
   },
   "file_extension": ".py",
   "mimetype": "text/x-python",
   "name": "python",
   "nbconvert_exporter": "python",
   "pygments_lexer": "ipython3",
   "version": "3.11.5"
  }
 },
 "nbformat": 4,
 "nbformat_minor": 2
}
