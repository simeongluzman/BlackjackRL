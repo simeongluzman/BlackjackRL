{
 "cells": [
  {
   "cell_type": "markdown",
   "metadata": {},
   "source": []
  },
  {
   "cell_type": "code",
   "execution_count": 32,
   "metadata": {},
   "outputs": [],
   "source": [
    "import random\n",
    "class BlackJackEnv:\n",
    "\n",
    "  rCount = 0\n",
    "  roundStarted = False\n",
    "\n",
    "  def __str__(self):\n",
    "    return f\"Deck: {self.deck} \\nDiscard: {self.discard} \\nRunning Count: {self.rCount} \\nPlayer Hand: {self.playerHand} \\nDealer Hand: {self.dealerHand} \\nRound Started: {self.roundStarted}\\n hasAce: {self.has_ace()} \\n\"\n",
    "\n",
    "  def __init__(self, numDecks):\n",
    "    self.deck = [2,3,4,5,6,7,8,9,10,10,10,10,11] * 4 * numDecks #ingoring suits, not needed for blackjack\n",
    "    self.rCount = 0 #Wont update for now, will just keep discrad pile and create method to update later\n",
    "    self.discard = [] #Also contains cards that are in play (on the table)\n",
    "    self.playerHand = []\n",
    "    self.dealerHand = []\n",
    "    \n",
    "    self.shuffle()\n",
    "\n",
    "  \n",
    "  def shuffle(self):\n",
    "    for card in self.discard:\n",
    "      self.deck.append(card)\n",
    "    self.discard = []\n",
    "    #shuffle 5 times\n",
    "    for i in range (5):\n",
    "      random.shuffle(self.deck)\n",
    "\n",
    "  def hand_value(self,hand):\n",
    "    value = sum(hand)\n",
    "    if value > 21 and 11 in hand:\n",
    "      hand.remove(11)\n",
    "      hand.append(1)\n",
    "      value = sum(hand)\n",
    "    return value\n",
    "  \n",
    "\n",
    "  #might need to change this account for aces that are already overdrawn for value 11\n",
    "  def has_ace(self):\n",
    "    if 11 in self.playerHand:\n",
    "      return 1\n",
    "    else:\n",
    "      return 0\n",
    "  \n",
    "  def deal_card(self):\n",
    "    card = self.deck.pop()\n",
    "    if card < 7:\n",
    "      self.rCount += 1\n",
    "    elif card > 9:\n",
    "      self.rCount -= 1\n",
    "    self.discard.append(card)\n",
    "    return card\n",
    "  \n",
    "  def get_state(self):\n",
    "    \"\"\"\n",
    "     Returns: player hand-val, dealers first card, hasAce, roundstarted(bbool), reward\n",
    "     \"\"\"\n",
    "    pl = self.hand_value(self.playerHand)\n",
    "    dl = self.dealerHand[0]\n",
    "    runningCount = self.rCount\n",
    "    reward = self.get_reward()\n",
    "    roundStarted = self.roundStarted\n",
    "    #Returns: player hand-val, dealers first card, hasAce, roundstarted(bbool), reward\n",
    "    return (pl,dl,self.has_ace(), roundStarted,reward,runningCount)\n",
    "  \n",
    "  def get_reward(self):\n",
    "    if self.roundStarted:\n",
    "      return 0.0\n",
    "    else:\n",
    "\n",
    "      playerValue = self.hand_value(self.playerHand)\n",
    "      dealerValue = self.hand_value(self.dealerHand)\n",
    "      if playerValue > 21:\n",
    "        return -100.0\n",
    "      if dealerValue > 21:\n",
    "        return 100.0\n",
    "      if playerValue > dealerValue:\n",
    "        return 100.0\n",
    "      if playerValue < dealerValue:\n",
    "        return -100.0\n",
    "      return 5.0\n",
    "    \n",
    "  def end_round(self):\n",
    "    ''' \n",
    "    if self.get_reward() == 30.0:\n",
    "      print(\"Tie\")\n",
    "    elif self.get_reward() == 100.0:\n",
    "      print(\"Player wins\")\n",
    "    else:\n",
    "      print(\"Dealer wins\")\n",
    "    '''\n",
    "    self.playerHand = []\n",
    "    self.dealerHand = []\n",
    "\n",
    "  def start_round(self):\n",
    "    if len(self.deck) < 20:\n",
    "      self.shuffle()\n",
    "    \n",
    "    if self.roundStarted:\n",
    "      print(\"Round already started\")\n",
    "      return None\n",
    "    self.roundStarted = True\n",
    "    self.playerHand = [self.deal_card(), self.deal_card()]\n",
    "    self.dealerHand = [self.deal_card(), self.deal_card()]\n",
    "    return self.get_state()\n",
    "\n",
    "  def next(self,action):\n",
    "    if not self.roundStarted:\n",
    "      print(\"Round not started\")\n",
    "      return None\n",
    "    \n",
    "    if action == 1:\n",
    "      self.playerHand.append(self.deal_card())\n",
    "      if self.hand_value(self.playerHand) > 21:\n",
    "        self.roundStarted = False\n",
    "        state = self.get_state()\n",
    "        self.end_round()\n",
    "        return state\n",
    "      return self.get_state()\n",
    "    else:\n",
    "      \n",
    "      while self.hand_value(self.dealerHand) < 17:\n",
    "        self.dealerHand.append(self.deal_card())\n",
    "      self.roundStarted = False\n",
    "      state = self.get_state()\n",
    "      self.end_round()\n",
    "      return state\n",
    "    \n",
    "  \n",
    "     \n",
    "\n"
   ]
  },
  {
   "cell_type": "code",
   "execution_count": 42,
   "metadata": {},
   "outputs": [],
   "source": [
    "import matplotlib.pyplot as plt\n",
    "import pandas as pd\n",
    "import seaborn as sns\n",
    "\n",
    "def map_policy(policy):\n",
    "  # Map 'H' to 0 and 'S' to 1 for numerical representation\n",
    "  strategy_numerical = [[0 if cell == 'H' else 1 for cell in row] for row in policy]\n",
    "  player_values = list(range(4, 22))\n",
    "  dealer_cards = list(range(2, 12))\n",
    "  strategy_df = pd.DataFrame(policy, index=player_values, columns=dealer_cards)\n",
    "  strategy_df_numerical = pd.DataFrame(strategy_numerical, index=player_values, columns=dealer_cards)\n",
    "\n",
    "  # Create the heatmap with numerical values\n",
    "  plt.figure(figsize=(5, 4))\n",
    "  sns.heatmap(strategy_df_numerical, annot=strategy_df, cmap=\"coolwarm\", cbar=False, fmt=\"\")\n",
    "  plt.title(\"Blackjack Basic Strategy Chart (H=Hit, S=Stand)\")\n",
    "  plt.xlabel(\"Dealer's Face-Up Card\")\n",
    "  plt.ylabel(\"Player's Total\")\n",
    "  plt.show()\n"
   ]
  },
  {
   "cell_type": "code",
   "execution_count": 27,
   "metadata": {},
   "outputs": [
    {
     "name": "stdout",
     "output_type": "stream",
     "text": [
      "Deck: [3, 11, 10, 8, 3, 10, 3, 10, 8, 9, 11, 9, 8, 5, 9, 2, 6, 6, 3, 5, 7, 10, 5, 7, 8, 10, 3, 2, 10, 10, 10, 10, 2, 10, 10, 8, 11, 8, 4, 10, 10, 8, 6, 11, 11, 5, 7, 4, 9, 3, 10, 10, 5, 11, 8, 4, 8, 8, 10, 10, 10, 10, 9, 2, 4, 5, 9, 10, 10, 10, 8, 10, 10, 10, 7, 9, 6, 10, 2, 8, 5, 7, 10, 10, 6, 4, 8, 7, 5, 3, 10, 5, 9, 4, 11, 8, 3, 11, 10, 2, 10, 9, 4, 4, 4, 10, 4, 2, 3, 11, 6, 10, 6, 2, 10, 10, 4, 10, 10, 8, 10, 4, 9, 2, 8, 3, 10, 4, 2, 8, 2, 4, 5, 11, 10, 8, 6, 3, 10, 10, 7, 6, 3, 4, 3, 10, 5, 5, 10, 7, 9, 8, 2, 3, 10, 10, 6, 2, 10, 9, 3, 10, 2, 9, 10, 11, 3, 10, 8, 9, 7, 9, 4, 10, 6, 9, 2, 4, 4, 11, 10, 5, 9, 10, 11, 9, 3, 4, 10, 6, 6, 8, 6, 10, 5, 8, 10, 7, 10, 10, 5, 3, 10, 6, 8, 4, 10, 10, 7, 2, 10, 7, 6, 3, 4, 11, 2, 11, 3, 10, 11, 11, 5, 7, 10, 9, 6, 8, 10, 6, 8, 10, 2, 10, 5, 7, 10, 10, 10, 2, 6, 10, 10, 10, 2, 6, 5, 10, 7, 7, 5, 3, 2, 4, 10, 8, 6, 9, 10, 10, 8, 10, 10, 11, 6, 10, 4, 10, 10, 10, 7, 11, 8, 4, 10, 5, 7, 11, 10, 10, 10, 10, 6, 10, 10, 9, 10, 11, 10, 2, 9, 2, 10, 10, 5, 3, 10, 10, 10, 10, 4, 8, 2, 9, 8, 11, 5, 7, 10, 10, 2, 10, 11, 6, 5, 3, 9, 7, 4, 5, 2, 10, 9, 10, 4, 9, 10, 3, 5, 6, 10, 5, 11, 10, 3, 10, 10, 9, 11, 8, 5, 2, 10, 3, 10, 4, 10, 9, 7, 2, 6, 2, 6, 3, 11, 4, 10, 11, 6, 7, 6, 9, 9, 7, 10, 7, 10, 10, 7, 6, 10, 9, 10, 7, 5, 10, 6, 8, 6, 5, 10, 7, 6, 11, 11, 4, 10, 5, 7, 5, 8, 11, 9, 2, 10, 8, 5, 8, 9, 7, 4, 2, 9, 2, 11, 10, 11, 4, 9, 10, 5, 10, 10, 7, 3, 5, 4, 10, 5, 3, 9, 7, 6, 10, 4, 10, 7, 6, 10, 7, 2, 11, 10, 4, 6, 11, 7, 10, 10, 10, 11, 9, 10, 4, 2, 7, 4, 8, 10, 10, 10, 10, 4, 6, 3, 7, 7, 2, 10, 4, 10, 10, 11, 11, 5, 10, 8, 3, 5, 9, 10, 8, 2, 10, 10, 6, 3, 11, 3, 2, 3, 10, 3, 6, 8, 10, 9, 9, 7, 3, 5, 10, 10, 10, 10, 7, 10, 8, 3, 3, 10, 6, 4, 10, 5, 2, 10, 10, 7, 2, 3, 3, 5, 10, 11, 10, 2, 10, 11, 10] \n",
      "Discard: [] \n",
      "Running Count: 0 \n",
      "Player Hand: [] \n",
      "Dealer Hand: [] \n",
      "Round Started: False\n",
      " hasAce: 0 \n",
      "\n"
     ]
    }
   ],
   "source": [
    "table = BlackJackEnv(10)\n",
    "print(table)\n"
   ]
  },
  {
   "cell_type": "code",
   "execution_count": 20,
   "metadata": {},
   "outputs": [
    {
     "data": {
      "text/plain": [
       "(16, 6, 1, True, 0.0, 0)"
      ]
     },
     "execution_count": 20,
     "metadata": {},
     "output_type": "execute_result"
    }
   ],
   "source": [
    "\n",
    "table.start_round()\n"
   ]
  },
  {
   "cell_type": "code",
   "execution_count": 22,
   "metadata": {},
   "outputs": [
    {
     "data": {
      "text/plain": [
       "(21, 6, 1, False, 100.0, 0)"
      ]
     },
     "execution_count": 22,
     "metadata": {},
     "output_type": "execute_result"
    }
   ],
   "source": [
    "table.next(0)"
   ]
  },
  {
   "cell_type": "code",
   "execution_count": 57,
   "metadata": {},
   "outputs": [
    {
     "name": "stdout",
     "output_type": "stream",
     "text": [
      "Deck: [3, 7, 9, 10, 9, 2, 11, 10, 4, 3, 10, 7, 11, 7, 8, 2, 2, 5, 8, 3, 11, 10, 11, 10, 9, 8, 10, 10, 4, 10, 6, 4, 7, 3, 9, 11, 2, 10, 7, 11, 4, 7, 9, 6, 2, 10, 4, 4, 6, 2, 10, 10, 10, 3, 3, 3, 11, 10, 10, 10, 10, 3, 2, 3, 10, 7, 8, 2, 11, 9, 10, 10, 2, 10, 5, 2, 10, 10, 9, 10, 10, 7, 10, 3, 10, 3, 11, 10, 8, 10, 10, 5, 10, 3, 7, 5, 6, 3, 10, 5, 11, 6, 10, 4, 4, 8, 8, 10, 3, 3, 3, 6, 10, 10, 10, 10, 10, 4, 2, 10, 10, 6, 9, 8, 4, 7, 5, 10, 5, 4, 10, 6, 3, 7, 10, 2, 3, 10, 6, 5, 10, 3, 4, 6, 3, 11, 5, 6, 4, 10, 6, 4, 5, 10, 10, 8, 5, 5, 7, 3, 10, 7, 8, 10, 2, 2, 9, 10, 5, 11, 10, 10, 9, 6, 9, 4, 5, 10, 7, 6, 6, 6, 10, 11, 10, 5, 2, 5, 9, 8, 5, 10, 9, 3, 5, 5, 6, 8, 5, 10, 7, 9, 11, 5, 10, 9, 10, 4, 10, 5, 3, 10, 7, 3, 5, 4, 10, 7, 6, 4, 9, 3, 9, 5, 4, 11, 9, 7, 9, 2, 10, 10, 10, 11, 11, 10, 2, 9, 6, 2, 10, 2, 6, 9, 9, 8, 9, 6, 8, 2, 2, 5, 10, 10, 7, 9, 8, 11, 8, 5, 10, 10, 7, 7, 8, 11, 10, 7, 10, 4, 4, 10, 6, 10, 7, 6, 10, 10, 3, 11, 8, 9, 10, 10, 4, 3, 6, 7, 4, 7, 10, 8, 9, 3, 9, 7, 4, 9, 9, 10, 6, 10, 10, 10, 11, 7, 4, 10, 11, 7, 6, 2, 10, 6, 6, 11, 3, 8, 10, 10, 10, 4, 10, 10, 5, 10, 9, 7, 8, 3, 8, 7, 11, 7, 11, 11, 4, 8, 10, 9, 11, 6, 10, 2, 2, 10, 5, 10, 6, 7, 10, 11, 4, 8, 2, 4, 7, 6, 8, 5, 10, 11, 6, 10, 9, 4, 10, 8, 9, 9, 10, 10, 6, 4, 10, 8, 5, 9, 9, 7, 10, 10, 8, 10, 10, 3, 5, 3, 8, 10, 10, 9, 10, 10, 6, 11, 4, 5, 11, 4, 6, 9, 2, 2, 8, 2, 11, 10, 8, 10, 2, 5, 10, 7, 4, 3, 10, 8, 10, 11, 10, 10, 10, 2, 4, 3, 10, 4, 5, 2, 11, 10, 10, 3, 2, 6, 10, 10, 10, 10, 11, 10, 10, 8, 10, 7, 10, 9, 4, 5, 11, 10, 10, 10, 10, 11, 10, 5, 10, 10, 2, 7, 10, 8, 7, 4, 10, 6, 2, 8, 5, 4, 6, 10, 10, 11, 4, 10, 10, 3, 8, 10, 10, 5, 2, 8, 10, 10, 6, 2, 10, 10, 2, 10, 2, 9, 10, 10, 3, 3, 3, 2, 8, 10, 7, 5, 8, 11, 2, 7, 6, 10, 11, 5, 3, 8] \n",
      "Discard: [10, 10, 10, 10] \n",
      "Running Count: -4 \n",
      "Player Hand: [] \n",
      "Dealer Hand: [] \n",
      "Round Started: False\n",
      " hasAce: 0 \n",
      "\n"
     ]
    }
   ],
   "source": [
    "print(table)"
   ]
  },
  {
   "cell_type": "code",
   "execution_count": 39,
   "metadata": {},
   "outputs": [],
   "source": [
    "LEARNING_RATE = 0.01\n",
    "DISCOUNT_FACTOR = 0.8\n",
    "EXPLORE_PROB = 0.3 # for Q-learning\n",
    "MOVES = ['S', 'H']\n",
    "def q_solve(env):\n",
    "    \n",
    "\n",
    "    #ROWS REPRESENT PLAYER TOTALS: 4,5,6,7,8,9,10,11,12,13,14,15,16,17,18,19,20,21 (18 total)\n",
    "    #COLUMNS REPRESENT DEALER SHOWING: 2,3,4,5,6,7,8,9,10,11 (10 total)\n",
    "    #HAS ACE: 0,1 (2 total)\n",
    "    # ACTION: HIT, STAY (2 total)\n",
    "    r = 18\n",
    "    c = 10\n",
    "    \n",
    "    qVals = [] # qvals[player][dealer][hasAce][action]\n",
    "    #Initializing Qvals arr \n",
    "    for i in range(r):\n",
    "        q_row = []\n",
    "        for j in range(c):\n",
    "            q_row.append([[0.0,0.0],[0.0,0.0]])\n",
    "        \n",
    "        qVals.append(q_row)\n",
    "        \n",
    "    #Learning\n",
    "    for _ in range(2000000):\n",
    "        #Random drop on the map\n",
    "        \n",
    "        pl,dl,hasAce, roundStarted,reward,runningCount = env.start_round()\n",
    "        \n",
    "\n",
    "        while True:\n",
    "            #If we get dropped on p or g, its a terminal state and we end trial.\n",
    "            if reward== 100.0:\n",
    "                qVals[pl-4][dl-2][hasAce][0] = 100.0\n",
    "                qVals[pl-4][dl-2][hasAce][1] = 100.0  \n",
    "                break\n",
    "\n",
    "            if reward== -100.0:\n",
    "                qVals[pl-4][dl-2][hasAce][0] = -100.0\n",
    "                qVals[pl-4][dl-2][hasAce][1] = -100.0\n",
    "                break \n",
    "            if reward== 5.0:\n",
    "                qVals[pl-4][dl-2][hasAce][0] = 5.0\n",
    "                qVals[pl-4][dl-2][hasAce][1] = 5.0\n",
    "                break \n",
    "            pr = random.random()\n",
    "            possible_moves = [0,1] #add double later\n",
    "            action = 0\n",
    "            #WIth prob EXPLORE_PROB we pick a random possible move, otherwise we pick best q\n",
    "            # Might also want to add always hit under 12 rule\n",
    "            if pr < EXPLORE_PROB:\n",
    "                action = random.choice(possible_moves)\n",
    "            else:\n",
    "                \n",
    "                best_action_q = max(qVals[pl-4][dl-2][hasAce])\n",
    "                action = qVals[pl-4][dl-2][hasAce].index(best_action_q)\n",
    "\n",
    "            \n",
    "            pl_new,dl_new,hasAce_new, roundStarted_new,reward,runningCount = env.next(action)\n",
    "            # Second check for terminal state\n",
    "            \n",
    "            #calling new_q to update current q\n",
    "            q = new_q(reward,hasAce,qVals,pl,dl,pl_new,dl_new,hasAce_new,action)\n",
    "            #Updating q in qvals arr\n",
    "            qVals[pl-4][dl-2][hasAce][action] = q\n",
    "            if reward != 0.0:\n",
    "                break\n",
    "            #Moving on if not terminal state\n",
    "            pl = pl_new\n",
    "            dl= dl_new\n",
    "            hasAce = hasAce_new\n",
    "            \n",
    "\n",
    "\n",
    "    return get_policy(qVals,False)\n",
    "\n",
    "\n",
    "\n",
    "#Helper function to return the possible moves from a specific square (to avoid going off map)\n",
    "\n",
    "\n",
    "#Helper function to get the reward for a coordinate\n",
    "def get_policy(qVals, hasAce):\n",
    "       \n",
    "        policy = []\n",
    "\n",
    "        for i in range(4, 22):\n",
    "            row = []\n",
    "            for j in range(2, 12):\n",
    "                if hasAce:\n",
    "                    best_action_index = qVals[i-4][j-2][1].index(max(qVals[i-4][j-2][1]))\n",
    "                else:\n",
    "                    best_action_index = qVals[i-4][j-2][0].index(max(qVals[i-4][j-2][0]))\n",
    "                best_action = MOVES[best_action_index]\n",
    "                row.append(best_action)\n",
    "            policy.append(row)\n",
    "\n",
    "        return policy\n",
    "\n",
    "#Q learning function uses\n",
    "def new_q(action_reward,hasAce, qVals, pl_old, dl_old, pl_new, dl_new,hasAce_new, movenum):\n",
    "   \n",
    "    old_q = qVals[pl_old-4][dl_old-2][hasAce][movenum]\n",
    "    if pl_new == 21:\n",
    "        best_next_q = 100.0\n",
    "    elif pl_new > 21:\n",
    "        best_next_q = -100.0\n",
    "    else:\n",
    "\n",
    "        best_next_q = max(qVals[pl_new-4][dl_new-2][hasAce_new])\n",
    "\n",
    "    new_q = old_q + LEARNING_RATE * (action_reward + DISCOUNT_FACTOR * best_next_q - old_q)\n",
    "\n",
    "\n",
    "    return new_q"
   ]
  },
  {
   "cell_type": "code",
   "execution_count": 44,
   "metadata": {},
   "outputs": [
    {
     "data": {
      "image/png": "[encoded data removed]",
      "text/plain": [
       "<Figure size 500x400 with 1 Axes>"
      ]
     },
     "metadata": {},
     "output_type": "display_data"
    }
   ],
   "source": [
    "LEARNING_RATE = 0.01\n",
    "DISCOUNT_FACTOR = 0.8\n",
    "EXPLORE_PROB = 0.3 # for Q-learning\n",
    "table = BlackJackEnv(10)\n",
    "\n",
    "pol = q_solve(table)\n",
    "map_policy(pol)\n",
    "\n",
    "\n"
   ]
  },
  {
   "cell_type": "code",
   "execution_count": 45,
   "metadata": {},
   "outputs": [
    {
     "data": {
      "image/png": "[encoded data removed]",
      "text/plain": [
       "<Figure size 500x400 with 1 Axes>"
      ]
     },
     "metadata": {},
     "output_type": "display_data"
    }
   ],
   "source": [
    "LEARNING_RATE = 0.03\n",
    "DISCOUNT_FACTOR = 0.8\n",
    "EXPLORE_PROB = 0.4 # for Q-learning\n",
    "table = BlackJackEnv(10)\n",
    "\n",
    "pol = q_solve(table)\n",
    "map_policy(pol)"
   ]
  },
  {
   "cell_type": "code",
   "execution_count": null,
   "metadata": {},
   "outputs": [],
   "source": [
    "LEARNING_RATE = 0.01\n",
    "DISCOUNT_FACTOR = 0.5\n",
    "EXPLORE_PROB = 0.5 # for Q-learning\n",
    "table = BlackJackEnv(10)\n",
    "\n",
    "pol = q_solve(table)\n",
    "map_policy(pol)"
   ]
  }
 ],
 "metadata": {
  "kernelspec": {
   "display_name": "venv",
   "language": "python",
   "name": "python3"
  },
  "language_info": {
   "codemirror_mode": {
    "name": "ipython",
    "version": 3
   },
   "file_extension": ".py",
   "mimetype": "text/x-python",
   "name": "python",
   "nbconvert_exporter": "python",
   "pygments_lexer": "ipython3",
   "version": "3.11.5"
  }
 },
 "nbformat": 4,
 "nbformat_minor": 2
}
