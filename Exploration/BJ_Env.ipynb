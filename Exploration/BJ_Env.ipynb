{
 "cells": [
  {
   "cell_type": "code",
   "execution_count": 65,
   "metadata": {},
   "outputs": [],
   "source": [
    "import random\n",
    "class BlackJackEnv:\n",
    "\n",
    "  rCount = 0\n",
    "  roundStarted = False\n",
    "\n",
    "  def __str__(self):\n",
    "    return f\"Deck: {self.deck} \\nDiscard: {self.discard} \\nRunning Count: {self.rCount} \\nPlayer Hand: {self.playerHand} \\nDealer Hand: {self.dealerHand} \\nRound Started: {self.roundStarted}\"\n",
    "\n",
    "  def __init__(self, numDecks):\n",
    "    self.deck = [2,3,4,5,6,7,8,9,10,10,10,10,11] * 4 * numDecks #ingoring suits\n",
    "    self.rCount = 0 #Wont update for now, will just keep discrad pile and create method to update later\n",
    "    self.discard = [] #Also contains cards that are in play (on the table)\n",
    "    self.playerHand = []\n",
    "    self.dealerHand = []\n",
    "    \n",
    "    self.shuffle()\n",
    "\n",
    "  def shuffle(self):\n",
    "    for card in self.discard:\n",
    "      self.deck.append(card)\n",
    "    self.discard = []\n",
    "    #shuffle 5 times\n",
    "    for i in range (5):\n",
    "      random.shuffle(self.deck)\n",
    "\n",
    "  def hand_value(self,hand):\n",
    "    value = sum(hand)\n",
    "    if value > 21 and 11 in hand:\n",
    "      hand.remove(11)\n",
    "      hand.append(1)\n",
    "      value = sum(hand)\n",
    "    return value\n",
    "  \n",
    "\n",
    "  #might need to change this account for aces that are already overdrawn for value 11\n",
    "  def has_ace(self):\n",
    "    return 11 in self.playerHand\n",
    "  \n",
    "  def deal_card(self):\n",
    "    card = self.deck.pop()\n",
    "    if card < 7:\n",
    "      self.rCount += 1\n",
    "    elif card > 9:\n",
    "      self.rCount -= 1\n",
    "    self.discard.append(card)\n",
    "    return card\n",
    "  \n",
    "  def get_state(self):\n",
    "    pl = self.hand_value(self.playerHand)\n",
    "    dl = self.dealerHand[0]\n",
    "    runningCount = self.rCount\n",
    "    reward = self.get_reward()\n",
    "    roundStarted = self.roundStarted\n",
    "    #Returns: player hand-val, dealers first card, hasAce, roundstarted(bbool), reward\n",
    "    return (pl,dl,self.has_ace(), roundStarted,reward,runningCount)\n",
    "  \n",
    "  def get_reward(self):\n",
    "    if self.roundStarted:\n",
    "      return 0\n",
    "    else:\n",
    "\n",
    "      playerValue = self.hand_value(self.playerHand)\n",
    "      dealerValue = self.hand_value(self.dealerHand)\n",
    "      if playerValue > 21:\n",
    "        return -1\n",
    "      if dealerValue > 21:\n",
    "        return 1\n",
    "      if playerValue > dealerValue:\n",
    "        return 1\n",
    "      if playerValue < dealerValue:\n",
    "        return -1\n",
    "      return 0\n",
    "    \n",
    "  def end_round(self):\n",
    "    if not self.roundStarted:\n",
    "      print(\"Cannot end Round because its not started\")\n",
    "      return None\n",
    "    self.roundStarted = False\n",
    "    if self.get_reward() == 0:\n",
    "      print(\"Tie\")\n",
    "    elif self.get_reward() == 1:\n",
    "      print(\"Player wins\")\n",
    "    else:\n",
    "      print(\"Dealer wins\")\n",
    "    \n",
    "    self.playerHand = []\n",
    "    self.dealerHand = []\n",
    "\n",
    "  def start_round(self):\n",
    "    if self.roundStarted:\n",
    "      print(\"Round already started\")\n",
    "      return None\n",
    "    self.roundStarted = True\n",
    "    self.playerHand = [self.deal_card(), self.deal_card()]\n",
    "    self.dealerHand = [self.deal_card(), self.deal_card()]\n",
    "    return self.get_state()\n",
    "\n",
    "  def next(self,action):\n",
    "    if not self.roundStarted:\n",
    "      print(\"Round not started\")\n",
    "      return None\n",
    "    \n",
    "    if action == 1:\n",
    "      self.playerHand.append(self.deal_card())\n",
    "      if self.hand_value(self.playerHand) > 21:\n",
    "        state = self.get_state()\n",
    "        self.end_round()\n",
    "        return state\n",
    "      return self.get_state()\n",
    "    else:\n",
    "      while self.hand_value(self.dealerHand) < 17:\n",
    "        self.dealerHand.append(self.deal_card())\n",
    "      state = self.get_state()\n",
    "      self.end_round()\n",
    "      return state\n",
    "    #Add option to double also\n",
    "  \n",
    "     \n",
    "\n",
    "\n",
    "\n",
    "  \n",
    "  \n",
    "  \n",
    "    \n",
    "\n",
    "\n",
    "\n",
    "\n",
    "\n",
    "\n",
    "\n",
    "\n",
    "\n"
   ]
  },
  {
   "cell_type": "code",
   "execution_count": 66,
   "metadata": {},
   "outputs": [
    {
     "name": "stdout",
     "output_type": "stream",
     "text": [
      "Deck: [4, 11, 10, 5, 6, 2, 2, 10, 3, 10, 10, 10, 10, 7, 5, 4, 8, 10, 7, 9, 5, 10, 10, 10, 11, 2, 6, 3, 10, 10, 6, 8, 7, 4, 10, 11, 3, 2, 5, 8, 7, 3, 11, 8, 10, 10, 9, 6, 9, 4, 9, 10] \n",
      "Discard: [] \n",
      "Running Count: 0 \n",
      "Player Hand: [] \n",
      "Dealer Hand: [] \n",
      "Round Started: False\n"
     ]
    }
   ],
   "source": [
    "table = BlackJackEnv(1)\n",
    "print(table)\n"
   ]
  },
  {
   "cell_type": "code",
   "execution_count": 50,
   "metadata": {},
   "outputs": [
    {
     "name": "stdout",
     "output_type": "stream",
     "text": [
      "Deck: [10, 5, 6, 11, 11, 9, 10, 10, 4, 8, 2, 6, 7, 10, 3, 10, 10, 2, 10, 10, 10, 6, 4, 4, 7, 9, 11, 8, 5, 8, 11, 6, 10, 2, 3, 10, 10, 3, 3, 2, 9, 7, 4, 10, 10, 10, 8, 5] \n",
      "Discard: [10, 5, 7, 9] \n",
      "Running Count: 0 \n",
      "Player Hand: [10, 5] \n",
      "Dealer Hand: [7, 9] \n",
      "Round Started: True\n",
      "(15, 7, False, True, 0, 0)\n"
     ]
    }
   ],
   "source": [
    "table.start_round()\n",
    "print(table)\n",
    "print(table.get_state())\n",
    "print(table.next(0))"
   ]
  },
  {
   "cell_type": "code",
   "execution_count": 67,
   "metadata": {},
   "outputs": [
    {
     "data": {
      "text/plain": [
       "(19, 4, False, True, 0, 0)"
      ]
     },
     "execution_count": 67,
     "metadata": {},
     "output_type": "execute_result"
    }
   ],
   "source": [
    "\n",
    "table.start_round()\n"
   ]
  },
  {
   "cell_type": "code",
   "execution_count": 68,
   "metadata": {},
   "outputs": [
    {
     "name": "stdout",
     "output_type": "stream",
     "text": [
      "Tie\n"
     ]
    },
    {
     "data": {
      "text/plain": [
       "(25, 4, False, True, 0, 1)"
      ]
     },
     "execution_count": 68,
     "metadata": {},
     "output_type": "execute_result"
    }
   ],
   "source": [
    "table.next(1)"
   ]
  }
 ],
 "metadata": {
  "kernelspec": {
   "display_name": "venv",
   "language": "python",
   "name": "python3"
  },
  "language_info": {
   "codemirror_mode": {
    "name": "ipython",
    "version": 3
   },
   "file_extension": ".py",
   "mimetype": "text/x-python",
   "name": "python",
   "nbconvert_exporter": "python",
   "pygments_lexer": "ipython3",
   "version": "3.11.5"
  }
 },
 "nbformat": 4,
 "nbformat_minor": 2
}
