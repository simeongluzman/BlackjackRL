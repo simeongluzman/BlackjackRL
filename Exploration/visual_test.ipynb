{
 "cells": [
  {
   "cell_type": "code",
   "execution_count": 1,
   "metadata": {},
   "outputs": [],
   "source": [
    "policy = [['H', 'H', 'H', 'H', 'H', 'H', 'H', 'H', 'H', 'H'], ['H', 'H', 'H', 'H', 'H', 'H', 'H', 'H', 'H', 'H'], ['H', 'H', 'H', 'H', 'H', 'H', 'H', 'H', 'H', 'H'], ['H', 'H', 'H', 'H', 'H', 'H', 'H', 'H', 'H', 'H'], ['H', 'H', 'H', 'D', 'H', 'H', 'H', 'H', 'H', 'H'], ['H', 'H', 'D', 'D', 'D', 'D', 'D', 'H', 'H', 'H'], ['D', 'D', 'D', 'D', 'D', 'D', 'H', 'D', 'H', 'H'], ['D', 'D', 'D', 'D', 'D', 'D', 'D', 'D', 'H', 'H'], ['H', 'H', 'S', 'D', 'S', 'H', 'H', 'H', 'H', 'H'], ['S', 'S', 'H', 'S', 'S', 'H', 'H', 'H', 'H', 'H'], ['S', 'H', 'S', 'S', 'S', 'H', 'H', 'H', 'H', 'H'], ['S', 'S', 'S', 'S', 'S', 'H', 'H', 'H', 'H', 'H'], ['S', 'S', 'S', 'S', 'S', 'S', 'S', 'H', 'H', 'H'], ['S', 'S', 'S', 'S', 'S', 'S', 'S', 'S', 'S', 'S'], ['S', 'S', 'S', 'S', 'S', 'S', 'S', 'S', 'S', 'S'], ['S', 'S', 'S', 'S', 'S', 'S', 'S', 'S', 'S', 'S'], ['S', 'S', 'S', 'S', 'S', 'S', 'S', 'S', 'S', 'S'], ['S', 'S', 'S', 'S', 'S', 'S', 'S', 'S', 'S', 'S']]\n",
    "\n",
    "\n",
    "# Hard coding policy to test visuals\n",
    "\n",
    "strategy_numerical = [[0 if cell == 'H' else 1 if cell == 'S' else 2 for cell in row] for row in policy]"
   ]
  },
  {
   "cell_type": "code",
   "execution_count": null,
   "metadata": {},
   "outputs": [],
   "source": []
  }
 ],
 "metadata": {
  "kernelspec": {
   "display_name": "venv",
   "language": "python",
   "name": "python3"
  },
  "language_info": {
   "codemirror_mode": {
    "name": "ipython",
    "version": 3
   },
   "file_extension": ".py",
   "mimetype": "text/x-python",
   "name": "python",
   "nbconvert_exporter": "python",
   "pygments_lexer": "ipython3",
   "version": "3.11.5"
  }
 },
 "nbformat": 4,
 "nbformat_minor": 2
}
