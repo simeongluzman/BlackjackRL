{
 "cells": [
  {
   "cell_type": "markdown",
   "metadata": {},
   "source": [
    "this is the initial test for interacting with the blackjack env in the gym library, just so we understand how the environment works b4 we move on to making the logic for the agent\n",
    "\n",
    "To test it, install the libraries in the requirements.txt file and try running the box below. If you have issues  w installation (i had a few), just ask chatgpt and it will help. i needed to install a lib called swig. \n",
    "\n",
    "\n",
    "##  TODO\n",
    "\n",
    "1. Change blackjack gym env (lines 178-181 in blackjack.py) in order to print which cards dealer draws after player stays (just for info/debugging, kind of wierd they didn't already implement that)\n",
    "2. Instead of interacting via keyboard, we will be training an agent to decide what to do (RL learning, where agent will be rewarded/punished for winning/losing rounds)\n",
    "3. add more functionality to blackjack env such as:\n",
    "    - Splitting cards\n",
    "    - Doubling down\n",
    "\n",
    "3. We also need to come up with some benchmark comparisons, such as randomly choosing hit/stay, and see how that does compared to a slightly better strategy, and finally compared to our agent/agents \n",
    "\n",
    "4. If time allows, we should completely change how the env works. right now, it simply picks a card at random with replacement, so there is no accurate model checking which cards have already been played, and there is no logic for 'shuffling' the deck after a certain amount of rounds\n",
    "\n"
   ]
  },
  {
   "cell_type": "code",
   "execution_count": 6,
   "metadata": {},
   "outputs": [
    {
     "name": "stdout",
     "output_type": "stream",
     "text": [
      "Your initial hand: 9, Dealer's initial card: 7, Usable ace: 0\n",
      "After action: Your hand: 9, Usable ace: 0\n",
      "Final outcome: Your hand: 9, Dealer's final hand: 7\n",
      "You lost!\n"
     ]
    }
   ],
   "source": [
    "import gymnasium as gym\n",
    "\n",
    "# Initialize the Blackjack environment with support for action 'sab'\n",
    "env = gym.make(\"Blackjack-v1\", sab=True)\n",
    "\n",
    "def play_blackjack():\n",
    "    # Start a new game\n",
    "    observation,_ = env.reset()\n",
    "    player_hand, dealer_hand, usable_ace = observation\n",
    "    print(f\"Your initial hand: {player_hand}, Dealer's initial card: {dealer_hand}, Usable ace: {usable_ace}\")\n",
    "    \n",
    "    while True:\n",
    "        # Ask the user for their action\n",
    "        action = input(\"Do you want to hit (1) or stay (0)? \")\n",
    "        try:\n",
    "            action = int(action)\n",
    "            if action not in [0, 1]:\n",
    "                raise ValueError\n",
    "        except ValueError:\n",
    "            print(\"Invalid input. Please enter 1 (hit) or 0 (stay).\")\n",
    "            continue\n",
    "\n",
    "        # Take the action in the environment\n",
    "        observation, reward, terminated, truncated, info = env.step(action)\n",
    "        player_hand, dealer_hand, usable_ace = observation\n",
    "\n",
    "        print(f\"After action: Your hand: {player_hand}, Usable ace: {usable_ace}\")\n",
    "\n",
    "        if terminated or action == 0:  # Player busts, wins, draws, or decides to stay\n",
    "            print(f\"Final outcome: Your hand: {player_hand}, Dealer's final hand: {dealer_hand}\")\n",
    "            if terminated:\n",
    "                if reward > 0:\n",
    "                    print(\"You won!\")\n",
    "                elif reward < 0:\n",
    "                    print(\"You lost!\")\n",
    "                else:\n",
    "                    print(\"It's a draw!\")\n",
    "            break\n",
    "\n",
    "# Play one round of Blackjack\n",
    "play_blackjack()\n",
    "\n"
   ]
  }
 ],
 "metadata": {
  "kernelspec": {
   "display_name": "venv",
   "language": "python",
   "name": "python3"
  },
  "language_info": {
   "codemirror_mode": {
    "name": "ipython",
    "version": 3
   },
   "file_extension": ".py",
   "mimetype": "text/x-python",
   "name": "python",
   "nbconvert_exporter": "python",
   "pygments_lexer": "ipython3",
   "version": "3.11.5"
  }
 },
 "nbformat": 4,
 "nbformat_minor": 2
}
